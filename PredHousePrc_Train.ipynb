{
 "cells": [
  {
   "cell_type": "code",
   "execution_count": 1,
   "metadata": {
    "ExecuteTime": {
     "end_time": "2020-03-18T16:46:37.806037Z",
     "start_time": "2020-03-18T16:46:32.227833Z"
    }
   },
   "outputs": [],
   "source": [
    "from pyforest import *"
   ]
  },
  {
   "cell_type": "code",
   "execution_count": 2,
   "metadata": {
    "ExecuteTime": {
     "end_time": "2020-03-18T16:46:49.978519Z",
     "start_time": "2020-03-18T16:46:37.809034Z"
    }
   },
   "outputs": [],
   "source": [
    "train_data= pd.read_csv(\"F:/Data Science/ML/Project/HousePrice/Predicting-House-Prices-In-Bengaluru-Train-Data.csv\",\n",
    "                        header= [0])"
   ]
  },
  {
   "cell_type": "code",
   "execution_count": 3,
   "metadata": {
    "ExecuteTime": {
     "end_time": "2020-03-18T16:46:50.433638Z",
     "start_time": "2020-03-18T16:46:49.994172Z"
    }
   },
   "outputs": [],
   "source": [
    "test_data= pd.read_csv(\"F:/Data Science/ML/Project/HousePrice/Predicting-House-Prices-In-Bengaluru-Test-Data.csv\",\n",
    "                        header= [0])"
   ]
  },
  {
   "cell_type": "code",
   "execution_count": 4,
   "metadata": {
    "ExecuteTime": {
     "end_time": "2020-03-18T16:46:50.684954Z",
     "start_time": "2020-03-18T16:46:50.437484Z"
    }
   },
   "outputs": [
    {
     "data": {
      "text/html": [
       "<div>\n",
       "<style scoped>\n",
       "    .dataframe tbody tr th:only-of-type {\n",
       "        vertical-align: middle;\n",
       "    }\n",
       "\n",
       "    .dataframe tbody tr th {\n",
       "        vertical-align: top;\n",
       "    }\n",
       "\n",
       "    .dataframe thead th {\n",
       "        text-align: right;\n",
       "    }\n",
       "</style>\n",
       "<table border=\"1\" class=\"dataframe\">\n",
       "  <thead>\n",
       "    <tr style=\"text-align: right;\">\n",
       "      <th></th>\n",
       "      <th>area_type</th>\n",
       "      <th>availability</th>\n",
       "      <th>location</th>\n",
       "      <th>size</th>\n",
       "      <th>society</th>\n",
       "      <th>total_sqft</th>\n",
       "      <th>bath</th>\n",
       "      <th>balcony</th>\n",
       "      <th>price</th>\n",
       "    </tr>\n",
       "  </thead>\n",
       "  <tbody>\n",
       "    <tr>\n",
       "      <th>0</th>\n",
       "      <td>Super built-up  Area</td>\n",
       "      <td>19-Dec</td>\n",
       "      <td>Electronic City Phase II</td>\n",
       "      <td>2 BHK</td>\n",
       "      <td>Coomee</td>\n",
       "      <td>1056</td>\n",
       "      <td>2.0</td>\n",
       "      <td>1.0</td>\n",
       "      <td>39.07</td>\n",
       "    </tr>\n",
       "    <tr>\n",
       "      <th>1</th>\n",
       "      <td>Plot  Area</td>\n",
       "      <td>Ready To Move</td>\n",
       "      <td>Chikka Tirupathi</td>\n",
       "      <td>4 Bedroom</td>\n",
       "      <td>Theanmp</td>\n",
       "      <td>2600</td>\n",
       "      <td>5.0</td>\n",
       "      <td>3.0</td>\n",
       "      <td>120.00</td>\n",
       "    </tr>\n",
       "    <tr>\n",
       "      <th>2</th>\n",
       "      <td>Built-up  Area</td>\n",
       "      <td>Ready To Move</td>\n",
       "      <td>Uttarahalli</td>\n",
       "      <td>3 BHK</td>\n",
       "      <td>NaN</td>\n",
       "      <td>1440</td>\n",
       "      <td>2.0</td>\n",
       "      <td>3.0</td>\n",
       "      <td>62.00</td>\n",
       "    </tr>\n",
       "  </tbody>\n",
       "</table>\n",
       "</div>"
      ],
      "text/plain": [
       "              area_type   availability                  location       size  \\\n",
       "0  Super built-up  Area         19-Dec  Electronic City Phase II      2 BHK   \n",
       "1            Plot  Area  Ready To Move          Chikka Tirupathi  4 Bedroom   \n",
       "2        Built-up  Area  Ready To Move               Uttarahalli      3 BHK   \n",
       "\n",
       "   society total_sqft  bath  balcony   price  \n",
       "0  Coomee        1056   2.0      1.0   39.07  \n",
       "1  Theanmp       2600   5.0      3.0  120.00  \n",
       "2      NaN       1440   2.0      3.0   62.00  "
      ]
     },
     "execution_count": 4,
     "metadata": {},
     "output_type": "execute_result"
    }
   ],
   "source": [
    "train_data.head(3)"
   ]
  },
  {
   "cell_type": "code",
   "execution_count": 5,
   "metadata": {
    "ExecuteTime": {
     "end_time": "2020-03-18T16:46:50.731826Z",
     "start_time": "2020-03-18T16:46:50.691933Z"
    }
   },
   "outputs": [
    {
     "data": {
      "text/html": [
       "<div>\n",
       "<style scoped>\n",
       "    .dataframe tbody tr th:only-of-type {\n",
       "        vertical-align: middle;\n",
       "    }\n",
       "\n",
       "    .dataframe tbody tr th {\n",
       "        vertical-align: top;\n",
       "    }\n",
       "\n",
       "    .dataframe thead th {\n",
       "        text-align: right;\n",
       "    }\n",
       "</style>\n",
       "<table border=\"1\" class=\"dataframe\">\n",
       "  <thead>\n",
       "    <tr style=\"text-align: right;\">\n",
       "      <th></th>\n",
       "      <th>area_type</th>\n",
       "      <th>availability</th>\n",
       "      <th>location</th>\n",
       "      <th>size</th>\n",
       "      <th>society</th>\n",
       "      <th>total_sqft</th>\n",
       "      <th>bath</th>\n",
       "      <th>balcony</th>\n",
       "      <th>price</th>\n",
       "    </tr>\n",
       "  </thead>\n",
       "  <tbody>\n",
       "    <tr>\n",
       "      <th>0</th>\n",
       "      <td>Super built-up  Area</td>\n",
       "      <td>Ready To Move</td>\n",
       "      <td>Brookefield</td>\n",
       "      <td>2 BHK</td>\n",
       "      <td>Roeekbl</td>\n",
       "      <td>1225</td>\n",
       "      <td>2.0</td>\n",
       "      <td>2.0</td>\n",
       "      <td>NaN</td>\n",
       "    </tr>\n",
       "    <tr>\n",
       "      <th>1</th>\n",
       "      <td>Plot  Area</td>\n",
       "      <td>Ready To Move</td>\n",
       "      <td>Akshaya Nagar</td>\n",
       "      <td>9 Bedroom</td>\n",
       "      <td>NaN</td>\n",
       "      <td>2400</td>\n",
       "      <td>9.0</td>\n",
       "      <td>2.0</td>\n",
       "      <td>NaN</td>\n",
       "    </tr>\n",
       "    <tr>\n",
       "      <th>2</th>\n",
       "      <td>Plot  Area</td>\n",
       "      <td>18-Apr</td>\n",
       "      <td>Hennur Road</td>\n",
       "      <td>4 Bedroom</td>\n",
       "      <td>Saandtt</td>\n",
       "      <td>1650</td>\n",
       "      <td>5.0</td>\n",
       "      <td>2.0</td>\n",
       "      <td>NaN</td>\n",
       "    </tr>\n",
       "  </tbody>\n",
       "</table>\n",
       "</div>"
      ],
      "text/plain": [
       "              area_type   availability       location       size  society  \\\n",
       "0  Super built-up  Area  Ready To Move    Brookefield      2 BHK  Roeekbl   \n",
       "1            Plot  Area  Ready To Move  Akshaya Nagar  9 Bedroom      NaN   \n",
       "2            Plot  Area         18-Apr    Hennur Road  4 Bedroom  Saandtt   \n",
       "\n",
       "  total_sqft  bath  balcony  price  \n",
       "0       1225   2.0      2.0    NaN  \n",
       "1       2400   9.0      2.0    NaN  \n",
       "2       1650   5.0      2.0    NaN  "
      ]
     },
     "execution_count": 5,
     "metadata": {},
     "output_type": "execute_result"
    }
   ],
   "source": [
    "test_data.head(3)"
   ]
  },
  {
   "cell_type": "markdown",
   "metadata": {},
   "source": [
    "# Data Exploration"
   ]
  },
  {
   "cell_type": "code",
   "execution_count": 6,
   "metadata": {
    "ExecuteTime": {
     "end_time": "2020-03-18T16:46:50.934709Z",
     "start_time": "2020-03-18T16:46:50.735815Z"
    }
   },
   "outputs": [
    {
     "name": "stdout",
     "output_type": "stream",
     "text": [
      "The information of training dataset \n",
      "\n",
      "<class 'pandas.core.frame.DataFrame'>\n",
      "RangeIndex: 13320 entries, 0 to 13319\n",
      "Data columns (total 9 columns):\n",
      "area_type       13320 non-null object\n",
      "availability    13320 non-null object\n",
      "location        13319 non-null object\n",
      "size            13304 non-null object\n",
      "society         7818 non-null object\n",
      "total_sqft      13320 non-null object\n",
      "bath            13247 non-null float64\n",
      "balcony         12711 non-null float64\n",
      "price           13320 non-null float64\n",
      "dtypes: float64(3), object(6)\n",
      "memory usage: 936.6+ KB\n"
     ]
    }
   ],
   "source": [
    "print( \"The information of training dataset \\n\")\n",
    "train_data.info() #find the general information"
   ]
  },
  {
   "cell_type": "code",
   "execution_count": 7,
   "metadata": {
    "ExecuteTime": {
     "end_time": "2020-03-18T16:46:50.966618Z",
     "start_time": "2020-03-18T16:46:50.949664Z"
    }
   },
   "outputs": [
    {
     "name": "stdout",
     "output_type": "stream",
     "text": [
      "The information of testing dataset \n",
      "\n",
      "<class 'pandas.core.frame.DataFrame'>\n",
      "RangeIndex: 1480 entries, 0 to 1479\n",
      "Data columns (total 9 columns):\n",
      "area_type       1480 non-null object\n",
      "availability    1480 non-null object\n",
      "location        1480 non-null object\n",
      "size            1478 non-null object\n",
      "society         854 non-null object\n",
      "total_sqft      1480 non-null object\n",
      "bath            1473 non-null float64\n",
      "balcony         1411 non-null float64\n",
      "price           0 non-null float64\n",
      "dtypes: float64(3), object(6)\n",
      "memory usage: 104.1+ KB\n"
     ]
    }
   ],
   "source": [
    "print( \"The information of testing dataset \\n\")\n",
    "test_data.info() #find the general information"
   ]
  },
  {
   "cell_type": "code",
   "execution_count": 8,
   "metadata": {
    "ExecuteTime": {
     "end_time": "2020-03-18T16:46:51.036431Z",
     "start_time": "2020-03-18T16:46:50.970608Z"
    }
   },
   "outputs": [
    {
     "name": "stdout",
     "output_type": "stream",
     "text": [
      "The data types of the attributes of train data:\n"
     ]
    },
    {
     "data": {
      "text/plain": [
       "area_type        object\n",
       "availability     object\n",
       "location         object\n",
       "size             object\n",
       "society          object\n",
       "total_sqft       object\n",
       "bath            float64\n",
       "balcony         float64\n",
       "price           float64\n",
       "dtype: object"
      ]
     },
     "execution_count": 8,
     "metadata": {},
     "output_type": "execute_result"
    }
   ],
   "source": [
    "print(\"The data types of the attributes of train data:\")\n",
    "train_data.dtypes"
   ]
  },
  {
   "cell_type": "code",
   "execution_count": 9,
   "metadata": {
    "ExecuteTime": {
     "end_time": "2020-03-18T16:46:51.131176Z",
     "start_time": "2020-03-18T16:46:51.039423Z"
    }
   },
   "outputs": [
    {
     "name": "stdout",
     "output_type": "stream",
     "text": [
      "The data types of the attributes of test data:\n"
     ]
    },
    {
     "data": {
      "text/plain": [
       "area_type        object\n",
       "availability     object\n",
       "location         object\n",
       "size             object\n",
       "society          object\n",
       "total_sqft       object\n",
       "bath            float64\n",
       "balcony         float64\n",
       "price           float64\n",
       "dtype: object"
      ]
     },
     "execution_count": 9,
     "metadata": {},
     "output_type": "execute_result"
    }
   ],
   "source": [
    "print(\"The data types of the attributes of test data:\")\n",
    "test_data.dtypes"
   ]
  },
  {
   "cell_type": "code",
   "execution_count": 10,
   "metadata": {
    "ExecuteTime": {
     "end_time": "2020-03-18T16:46:54.408677Z",
     "start_time": "2020-03-18T16:46:51.134168Z"
    }
   },
   "outputs": [
    {
     "name": "stdout",
     "output_type": "stream",
     "text": [
      " The percentage of missing data in each attribute of training data:\n",
      "area_type        0.000000\n",
      "availability     0.000000\n",
      "location         0.007508\n",
      "size             0.120120\n",
      "society         41.306306\n",
      "total_sqft       0.000000\n",
      "bath             0.548048\n",
      "balcony          4.572072\n",
      "price            0.000000\n",
      "dtype: float64\n"
     ]
    },
    {
     "data": {
      "text/plain": [
       "<Figure size 1500x500 with 1 Axes>"
      ]
     },
     "metadata": {},
     "output_type": "display_data"
    }
   ],
   "source": [
    "print(\" The percentage of missing data in each attribute of training data:\")\n",
    "data_misn= train_data.isnull().sum()/ len(train_data)* 100\n",
    "print( data_misn )\n",
    "data_misn.plot.barh(figsize= (15, 5), title= \"Percentage of Missing Values in training data\")\n",
    "plt.show()"
   ]
  },
  {
   "cell_type": "markdown",
   "metadata": {},
   "source": [
    "It can be seen that society column has the maximum number of missing values, and it crosses the standard limit of 30%. Let us plot to see the trend of price against society.\n",
    "It can be due to:\n",
    "* Many houses don't belong to any society.\n",
    "* Data gathering problem\n",
    "* Or both"
   ]
  },
  {
   "cell_type": "code",
   "execution_count": 11,
   "metadata": {
    "ExecuteTime": {
     "end_time": "2020-03-18T16:46:54.955277Z",
     "start_time": "2020-03-18T16:46:54.411671Z"
    }
   },
   "outputs": [
    {
     "name": "stdout",
     "output_type": "stream",
     "text": [
      " The percentage of missing data in each attribute of test data:\n",
      "area_type         0.000000\n",
      "availability      0.000000\n",
      "location          0.000000\n",
      "size              0.135135\n",
      "society          42.297297\n",
      "total_sqft        0.000000\n",
      "bath              0.472973\n",
      "balcony           4.662162\n",
      "price           100.000000\n",
      "dtype: float64\n"
     ]
    },
    {
     "data": {
      "image/png": "[encoded data removed]",
      "text/plain": [
       "<Figure size 1080x360 with 1 Axes>"
      ]
     },
     "metadata": {
      "needs_background": "light"
     },
     "output_type": "display_data"
    }
   ],
   "source": [
    "print(\" The percentage of missing data in each attribute of test data:\")\n",
    "data_misn_test= test_data.isnull().sum()/ len(test_data)* 100\n",
    "print( data_misn_test )\n",
    "data_misn_test.plot.barh(figsize= (15, 5), title= \"Percentage of Missing Values in test data\")\n",
    "plt.show()"
   ]
  },
  {
   "cell_type": "markdown",
   "metadata": {},
   "source": [
    "It can be seen that society column has the maximum number of missing values in test data also, and it crosses the standard limit of 30%.\n",
    "It can be due to:\n",
    "* Many houses don't belong to any society.\n",
    "* Data gathering problem\n",
    "* Or both\n",
    "\n",
    "Also, the target variable, as expected, has all values missing."
   ]
  },
  {
   "cell_type": "code",
   "execution_count": 12,
   "metadata": {
    "ExecuteTime": {
     "end_time": "2020-03-18T16:48:14.056495Z",
     "start_time": "2020-03-18T16:46:54.957272Z"
    }
   },
   "outputs": [
    {
     "name": "stderr",
     "output_type": "stream",
     "text": [
      "C:\\Users\\Soorma\\Anaconda3\\lib\\site-packages\\ipykernel_launcher.py:3: SettingWithCopyWarning: \n",
      "A value is trying to be set on a copy of a slice from a DataFrame\n",
      "\n",
      "See the caveats in the documentation: http://pandas.pydata.org/pandas-docs/stable/indexing.html#indexing-view-versus-copy\n",
      "  This is separate from the ipykernel package so we can avoid doing imports until\n"
     ]
    },
    {
     "data": {
      "image/png": "[encoded data removed]",
      "text/plain": [
       "<Figure size 720x504 with 1 Axes>"
      ]
     },
     "metadata": {
      "needs_background": "light"
     },
     "output_type": "display_data"
    }
   ],
   "source": [
    "# Plotting the society variable against price for training data\n",
    "soc_price_data= train_data[[\"society\", \"price\"]]\n",
    "soc_price_data.dropna(axis= 0, inplace= True)\n",
    "fig= plt.subplots(figsize= (10, 7))\n",
    "plt.plot(soc_price_data.society, soc_price_data.price)\n",
    "plt.xlabel(\"Society\")\n",
    "plt.ylabel(\"Price of flat\")\n",
    "plt.title(\" Plotting of Society against the price of the house for training data\")\n",
    "plt.show()"
   ]
  },
  {
   "cell_type": "markdown",
   "metadata": {},
   "source": [
    "Thus, there is no apparent relation between the society and price of flat. Hence, we can remove the society attribute. "
   ]
  },
  {
   "cell_type": "code",
   "execution_count": 13,
   "metadata": {
    "ExecuteTime": {
     "end_time": "2020-03-18T16:48:14.063440Z",
     "start_time": "2020-03-18T16:48:14.058491Z"
    }
   },
   "outputs": [],
   "source": [
    "# This is to see the aggregated value of society against price\n",
    "#train_data.groupby('society')['price'].sum()"
   ]
  },
  {
   "cell_type": "code",
   "execution_count": 14,
   "metadata": {
    "ExecuteTime": {
     "end_time": "2020-03-18T16:48:14.179318Z",
     "start_time": "2020-03-18T16:48:14.068428Z"
    }
   },
   "outputs": [
    {
     "data": {
      "text/html": [
       "<div>\n",
       "<style scoped>\n",
       "    .dataframe tbody tr th:only-of-type {\n",
       "        vertical-align: middle;\n",
       "    }\n",
       "\n",
       "    .dataframe tbody tr th {\n",
       "        vertical-align: top;\n",
       "    }\n",
       "\n",
       "    .dataframe thead th {\n",
       "        text-align: right;\n",
       "    }\n",
       "</style>\n",
       "<table border=\"1\" class=\"dataframe\">\n",
       "  <thead>\n",
       "    <tr style=\"text-align: right;\">\n",
       "      <th></th>\n",
       "      <th>area_type</th>\n",
       "      <th>availability</th>\n",
       "      <th>location</th>\n",
       "      <th>size</th>\n",
       "      <th>total_sqft</th>\n",
       "      <th>bath</th>\n",
       "      <th>balcony</th>\n",
       "      <th>price</th>\n",
       "    </tr>\n",
       "  </thead>\n",
       "  <tbody>\n",
       "    <tr>\n",
       "      <th>0</th>\n",
       "      <td>Super built-up  Area</td>\n",
       "      <td>19-Dec</td>\n",
       "      <td>Electronic City Phase II</td>\n",
       "      <td>2 BHK</td>\n",
       "      <td>1056</td>\n",
       "      <td>2.0</td>\n",
       "      <td>1.0</td>\n",
       "      <td>39.07</td>\n",
       "    </tr>\n",
       "    <tr>\n",
       "      <th>1</th>\n",
       "      <td>Plot  Area</td>\n",
       "      <td>Ready To Move</td>\n",
       "      <td>Chikka Tirupathi</td>\n",
       "      <td>4 Bedroom</td>\n",
       "      <td>2600</td>\n",
       "      <td>5.0</td>\n",
       "      <td>3.0</td>\n",
       "      <td>120.00</td>\n",
       "    </tr>\n",
       "    <tr>\n",
       "      <th>2</th>\n",
       "      <td>Built-up  Area</td>\n",
       "      <td>Ready To Move</td>\n",
       "      <td>Uttarahalli</td>\n",
       "      <td>3 BHK</td>\n",
       "      <td>1440</td>\n",
       "      <td>2.0</td>\n",
       "      <td>3.0</td>\n",
       "      <td>62.00</td>\n",
       "    </tr>\n",
       "    <tr>\n",
       "      <th>3</th>\n",
       "      <td>Super built-up  Area</td>\n",
       "      <td>Ready To Move</td>\n",
       "      <td>Lingadheeranahalli</td>\n",
       "      <td>3 BHK</td>\n",
       "      <td>1521</td>\n",
       "      <td>3.0</td>\n",
       "      <td>1.0</td>\n",
       "      <td>95.00</td>\n",
       "    </tr>\n",
       "  </tbody>\n",
       "</table>\n",
       "</div>"
      ],
      "text/plain": [
       "              area_type   availability                  location       size  \\\n",
       "0  Super built-up  Area         19-Dec  Electronic City Phase II      2 BHK   \n",
       "1            Plot  Area  Ready To Move          Chikka Tirupathi  4 Bedroom   \n",
       "2        Built-up  Area  Ready To Move               Uttarahalli      3 BHK   \n",
       "3  Super built-up  Area  Ready To Move        Lingadheeranahalli      3 BHK   \n",
       "\n",
       "  total_sqft  bath  balcony   price  \n",
       "0       1056   2.0      1.0   39.07  \n",
       "1       2600   5.0      3.0  120.00  \n",
       "2       1440   2.0      3.0   62.00  \n",
       "3       1521   3.0      1.0   95.00  "
      ]
     },
     "execution_count": 14,
     "metadata": {},
     "output_type": "execute_result"
    }
   ],
   "source": [
    "# Removing society attribute\n",
    "# Note that, it has already been saved in another dataframe\n",
    "train_data.drop([\"society\"], axis= 1, inplace= True)\n",
    "train_data.head(4)"
   ]
  },
  {
   "cell_type": "code",
   "execution_count": 15,
   "metadata": {
    "ExecuteTime": {
     "end_time": "2020-03-18T16:48:14.269121Z",
     "start_time": "2020-03-18T16:48:14.185302Z"
    },
    "scrolled": true
   },
   "outputs": [
    {
     "data": {
      "text/plain": [
       "area_type       0.000000\n",
       "availability    0.000000\n",
       "location        0.000075\n",
       "size            0.001201\n",
       "total_sqft      0.000000\n",
       "bath            0.005480\n",
       "balcony         0.045721\n",
       "price           0.000000\n",
       "dtype: float64"
      ]
     },
     "execution_count": 15,
     "metadata": {},
     "output_type": "execute_result"
    }
   ],
   "source": [
    "train_data.isnull().sum()/len(train_data)"
   ]
  },
  {
   "cell_type": "code",
   "execution_count": 16,
   "metadata": {
    "ExecuteTime": {
     "end_time": "2020-03-18T16:48:14.393759Z",
     "start_time": "2020-03-18T16:48:14.272080Z"
    }
   },
   "outputs": [
    {
     "data": {
      "text/html": [
       "<div>\n",
       "<style scoped>\n",
       "    .dataframe tbody tr th:only-of-type {\n",
       "        vertical-align: middle;\n",
       "    }\n",
       "\n",
       "    .dataframe tbody tr th {\n",
       "        vertical-align: top;\n",
       "    }\n",
       "\n",
       "    .dataframe thead th {\n",
       "        text-align: right;\n",
       "    }\n",
       "</style>\n",
       "<table border=\"1\" class=\"dataframe\">\n",
       "  <thead>\n",
       "    <tr style=\"text-align: right;\">\n",
       "      <th></th>\n",
       "      <th>area_type</th>\n",
       "      <th>availability</th>\n",
       "      <th>location</th>\n",
       "      <th>size</th>\n",
       "      <th>total_sqft</th>\n",
       "      <th>bath</th>\n",
       "      <th>balcony</th>\n",
       "      <th>price</th>\n",
       "    </tr>\n",
       "  </thead>\n",
       "  <tbody>\n",
       "    <tr>\n",
       "      <th>0</th>\n",
       "      <td>Super built-up  Area</td>\n",
       "      <td>Ready To Move</td>\n",
       "      <td>Brookefield</td>\n",
       "      <td>2 BHK</td>\n",
       "      <td>1225</td>\n",
       "      <td>2.0</td>\n",
       "      <td>2.0</td>\n",
       "      <td>NaN</td>\n",
       "    </tr>\n",
       "    <tr>\n",
       "      <th>1</th>\n",
       "      <td>Plot  Area</td>\n",
       "      <td>Ready To Move</td>\n",
       "      <td>Akshaya Nagar</td>\n",
       "      <td>9 Bedroom</td>\n",
       "      <td>2400</td>\n",
       "      <td>9.0</td>\n",
       "      <td>2.0</td>\n",
       "      <td>NaN</td>\n",
       "    </tr>\n",
       "    <tr>\n",
       "      <th>2</th>\n",
       "      <td>Plot  Area</td>\n",
       "      <td>18-Apr</td>\n",
       "      <td>Hennur Road</td>\n",
       "      <td>4 Bedroom</td>\n",
       "      <td>1650</td>\n",
       "      <td>5.0</td>\n",
       "      <td>2.0</td>\n",
       "      <td>NaN</td>\n",
       "    </tr>\n",
       "    <tr>\n",
       "      <th>3</th>\n",
       "      <td>Super built-up  Area</td>\n",
       "      <td>Ready To Move</td>\n",
       "      <td>Kodichikkanahalli</td>\n",
       "      <td>3 BHK</td>\n",
       "      <td>1322</td>\n",
       "      <td>3.0</td>\n",
       "      <td>1.0</td>\n",
       "      <td>NaN</td>\n",
       "    </tr>\n",
       "  </tbody>\n",
       "</table>\n",
       "</div>"
      ],
      "text/plain": [
       "              area_type   availability           location       size  \\\n",
       "0  Super built-up  Area  Ready To Move        Brookefield      2 BHK   \n",
       "1            Plot  Area  Ready To Move      Akshaya Nagar  9 Bedroom   \n",
       "2            Plot  Area         18-Apr        Hennur Road  4 Bedroom   \n",
       "3  Super built-up  Area  Ready To Move  Kodichikkanahalli      3 BHK   \n",
       "\n",
       "  total_sqft  bath  balcony  price  \n",
       "0       1225   2.0      2.0    NaN  \n",
       "1       2400   9.0      2.0    NaN  \n",
       "2       1650   5.0      2.0    NaN  \n",
       "3       1322   3.0      1.0    NaN  "
      ]
     },
     "execution_count": 16,
     "metadata": {},
     "output_type": "execute_result"
    }
   ],
   "source": [
    "# Removing society attribute to another dataframe\n",
    "soc_price_test= test_data[[\"society\", \"price\"]]\n",
    "# Note that, it has already been saved in another dataframe\n",
    "test_data.drop([\"society\"], axis= 1, inplace= True)\n",
    "test_data.head(4)"
   ]
  },
  {
   "cell_type": "code",
   "execution_count": 17,
   "metadata": {
    "ExecuteTime": {
     "end_time": "2020-03-18T16:48:14.513931Z",
     "start_time": "2020-03-18T16:48:14.396714Z"
    }
   },
   "outputs": [
    {
     "data": {
      "text/plain": [
       "area_type       0.000000\n",
       "availability    0.000000\n",
       "location        0.000000\n",
       "size            0.001351\n",
       "total_sqft      0.000000\n",
       "bath            0.004730\n",
       "balcony         0.046622\n",
       "price           1.000000\n",
       "dtype: float64"
      ]
     },
     "execution_count": 17,
     "metadata": {},
     "output_type": "execute_result"
    }
   ],
   "source": [
    "test_data.isnull().sum()/len(test_data)"
   ]
  },
  {
   "cell_type": "markdown",
   "metadata": {},
   "source": [
    "From above, we can see that the null values in different columns are less than cutoff. So , we can remove those null values now."
   ]
  },
  {
   "cell_type": "code",
   "execution_count": 18,
   "metadata": {
    "ExecuteTime": {
     "end_time": "2020-03-18T16:48:14.712250Z",
     "start_time": "2020-03-18T16:48:14.527851Z"
    }
   },
   "outputs": [
    {
     "name": "stdout",
     "output_type": "stream",
     "text": [
      " The null value count in train data: \n",
      " area_type       0\n",
      "availability    0\n",
      "location        0\n",
      "size            0\n",
      "total_sqft      0\n",
      "bath            0\n",
      "balcony         0\n",
      "price           0\n",
      "dtype: int64\n",
      " The null value count in test data: \n",
      " area_type       0\n",
      "availability    0\n",
      "location        0\n",
      "size            0\n",
      "total_sqft      0\n",
      "bath            0\n",
      "balcony         0\n",
      "dtype: int64\n"
     ]
    }
   ],
   "source": [
    "train_data.dropna(axis= 0, inplace= True)\n",
    "print(\" The null value count in train data: \\n\", train_data.isnull().sum() ) #to check that the null values are removed\n",
    "\n",
    "test_data.drop(['price'], axis= 1, inplace= True)\n",
    "test_data.dropna(axis= 0, inplace= True)\n",
    "print(\" The null value count in test data: \\n\", test_data.isnull().sum() )#to check that the null values are removed"
   ]
  },
  {
   "cell_type": "markdown",
   "metadata": {},
   "source": [
    "For model better fit, we can later see if we can impute the missing values and get better accuracy."
   ]
  },
  {
   "cell_type": "code",
   "execution_count": 19,
   "metadata": {
    "ExecuteTime": {
     "end_time": "2020-03-18T16:48:14.966394Z",
     "start_time": "2020-03-18T16:48:14.716241Z"
    }
   },
   "outputs": [
    {
     "data": {
      "text/html": [
       "<div>\n",
       "<style scoped>\n",
       "    .dataframe tbody tr th:only-of-type {\n",
       "        vertical-align: middle;\n",
       "    }\n",
       "\n",
       "    .dataframe tbody tr th {\n",
       "        vertical-align: top;\n",
       "    }\n",
       "\n",
       "    .dataframe thead th {\n",
       "        text-align: right;\n",
       "    }\n",
       "</style>\n",
       "<table border=\"1\" class=\"dataframe\">\n",
       "  <thead>\n",
       "    <tr style=\"text-align: right;\">\n",
       "      <th></th>\n",
       "      <th>area_type</th>\n",
       "      <th>availability</th>\n",
       "      <th>location</th>\n",
       "      <th>size</th>\n",
       "      <th>total_sqft</th>\n",
       "      <th>bath</th>\n",
       "      <th>balcony</th>\n",
       "      <th>price</th>\n",
       "    </tr>\n",
       "  </thead>\n",
       "  <tbody>\n",
       "    <tr>\n",
       "      <th>0</th>\n",
       "      <td>super built-up  area</td>\n",
       "      <td>19-dec</td>\n",
       "      <td>electronic city phase ii</td>\n",
       "      <td>2 bhk</td>\n",
       "      <td>1056</td>\n",
       "      <td>2.0</td>\n",
       "      <td>1.0</td>\n",
       "      <td>39.07</td>\n",
       "    </tr>\n",
       "    <tr>\n",
       "      <th>1</th>\n",
       "      <td>plot  area</td>\n",
       "      <td>ready to move</td>\n",
       "      <td>chikka tirupathi</td>\n",
       "      <td>4 bedroom</td>\n",
       "      <td>2600</td>\n",
       "      <td>5.0</td>\n",
       "      <td>3.0</td>\n",
       "      <td>120.00</td>\n",
       "    </tr>\n",
       "    <tr>\n",
       "      <th>2</th>\n",
       "      <td>built-up  area</td>\n",
       "      <td>ready to move</td>\n",
       "      <td>uttarahalli</td>\n",
       "      <td>3 bhk</td>\n",
       "      <td>1440</td>\n",
       "      <td>2.0</td>\n",
       "      <td>3.0</td>\n",
       "      <td>62.00</td>\n",
       "    </tr>\n",
       "    <tr>\n",
       "      <th>3</th>\n",
       "      <td>super built-up  area</td>\n",
       "      <td>ready to move</td>\n",
       "      <td>lingadheeranahalli</td>\n",
       "      <td>3 bhk</td>\n",
       "      <td>1521</td>\n",
       "      <td>3.0</td>\n",
       "      <td>1.0</td>\n",
       "      <td>95.00</td>\n",
       "    </tr>\n",
       "    <tr>\n",
       "      <th>4</th>\n",
       "      <td>super built-up  area</td>\n",
       "      <td>ready to move</td>\n",
       "      <td>kothanur</td>\n",
       "      <td>2 bhk</td>\n",
       "      <td>1200</td>\n",
       "      <td>2.0</td>\n",
       "      <td>1.0</td>\n",
       "      <td>51.00</td>\n",
       "    </tr>\n",
       "  </tbody>\n",
       "</table>\n",
       "</div>"
      ],
      "text/plain": [
       "              area_type   availability                  location       size  \\\n",
       "0  super built-up  area         19-dec  electronic city phase ii      2 bhk   \n",
       "1            plot  area  ready to move          chikka tirupathi  4 bedroom   \n",
       "2        built-up  area  ready to move               uttarahalli      3 bhk   \n",
       "3  super built-up  area  ready to move        lingadheeranahalli      3 bhk   \n",
       "4  super built-up  area  ready to move                  kothanur      2 bhk   \n",
       "\n",
       "  total_sqft  bath  balcony   price  \n",
       "0       1056   2.0      1.0   39.07  \n",
       "1       2600   5.0      3.0  120.00  \n",
       "2       1440   2.0      3.0   62.00  \n",
       "3       1521   3.0      1.0   95.00  \n",
       "4       1200   2.0      1.0   51.00  "
      ]
     },
     "execution_count": 19,
     "metadata": {},
     "output_type": "execute_result"
    }
   ],
   "source": [
    "# Converting strings in dataframe to lowercase\n",
    "conv_cols= ['area_type', 'availability', 'location', 'size']\n",
    "train_data[conv_cols]= train_data[conv_cols].apply(lambda x: x.astype(str).str.lower())\n",
    "train_data.head() "
   ]
  },
  {
   "cell_type": "code",
   "execution_count": 20,
   "metadata": {
    "ExecuteTime": {
     "end_time": "2020-03-18T16:48:15.008284Z",
     "start_time": "2020-03-18T16:48:14.972378Z"
    }
   },
   "outputs": [
    {
     "data": {
      "text/html": [
       "<div>\n",
       "<style scoped>\n",
       "    .dataframe tbody tr th:only-of-type {\n",
       "        vertical-align: middle;\n",
       "    }\n",
       "\n",
       "    .dataframe tbody tr th {\n",
       "        vertical-align: top;\n",
       "    }\n",
       "\n",
       "    .dataframe thead th {\n",
       "        text-align: right;\n",
       "    }\n",
       "</style>\n",
       "<table border=\"1\" class=\"dataframe\">\n",
       "  <thead>\n",
       "    <tr style=\"text-align: right;\">\n",
       "      <th></th>\n",
       "      <th>area_type</th>\n",
       "      <th>availability</th>\n",
       "      <th>location</th>\n",
       "      <th>size</th>\n",
       "      <th>total_sqft</th>\n",
       "      <th>bath</th>\n",
       "      <th>balcony</th>\n",
       "    </tr>\n",
       "  </thead>\n",
       "  <tbody>\n",
       "    <tr>\n",
       "      <th>0</th>\n",
       "      <td>super built-up  area</td>\n",
       "      <td>ready to move</td>\n",
       "      <td>brookefield</td>\n",
       "      <td>2 bhk</td>\n",
       "      <td>1225</td>\n",
       "      <td>2.0</td>\n",
       "      <td>2.0</td>\n",
       "    </tr>\n",
       "    <tr>\n",
       "      <th>1</th>\n",
       "      <td>plot  area</td>\n",
       "      <td>ready to move</td>\n",
       "      <td>akshaya nagar</td>\n",
       "      <td>9 bedroom</td>\n",
       "      <td>2400</td>\n",
       "      <td>9.0</td>\n",
       "      <td>2.0</td>\n",
       "    </tr>\n",
       "    <tr>\n",
       "      <th>2</th>\n",
       "      <td>plot  area</td>\n",
       "      <td>18-apr</td>\n",
       "      <td>hennur road</td>\n",
       "      <td>4 bedroom</td>\n",
       "      <td>1650</td>\n",
       "      <td>5.0</td>\n",
       "      <td>2.0</td>\n",
       "    </tr>\n",
       "    <tr>\n",
       "      <th>3</th>\n",
       "      <td>super built-up  area</td>\n",
       "      <td>ready to move</td>\n",
       "      <td>kodichikkanahalli</td>\n",
       "      <td>3 bhk</td>\n",
       "      <td>1322</td>\n",
       "      <td>3.0</td>\n",
       "      <td>1.0</td>\n",
       "    </tr>\n",
       "    <tr>\n",
       "      <th>4</th>\n",
       "      <td>super built-up  area</td>\n",
       "      <td>ready to move</td>\n",
       "      <td>konanakunte</td>\n",
       "      <td>2 bhk</td>\n",
       "      <td>1161</td>\n",
       "      <td>2.0</td>\n",
       "      <td>1.0</td>\n",
       "    </tr>\n",
       "  </tbody>\n",
       "</table>\n",
       "</div>"
      ],
      "text/plain": [
       "              area_type   availability           location       size  \\\n",
       "0  super built-up  area  ready to move        brookefield      2 bhk   \n",
       "1            plot  area  ready to move      akshaya nagar  9 bedroom   \n",
       "2            plot  area         18-apr        hennur road  4 bedroom   \n",
       "3  super built-up  area  ready to move  kodichikkanahalli      3 bhk   \n",
       "4  super built-up  area  ready to move        konanakunte      2 bhk   \n",
       "\n",
       "  total_sqft  bath  balcony  \n",
       "0       1225   2.0      2.0  \n",
       "1       2400   9.0      2.0  \n",
       "2       1650   5.0      2.0  \n",
       "3       1322   3.0      1.0  \n",
       "4       1161   2.0      1.0  "
      ]
     },
     "execution_count": 20,
     "metadata": {},
     "output_type": "execute_result"
    }
   ],
   "source": [
    "test_data[conv_cols]= test_data[conv_cols].apply(lambda x: x.astype(str).str.lower())\n",
    "test_data.head()"
   ]
  },
  {
   "cell_type": "code",
   "execution_count": 21,
   "metadata": {
    "ExecuteTime": {
     "end_time": "2020-03-18T16:48:15.072621Z",
     "start_time": "2020-03-18T16:48:15.012273Z"
    }
   },
   "outputs": [
    {
     "name": "stdout",
     "output_type": "stream",
     "text": [
      "The shape of the training data, after removing missing values:  (12710, 8)\n",
      "The shape of the test data, after removing missing values:  (1411, 7)\n"
     ]
    }
   ],
   "source": [
    "print( \"The shape of the training data, after removing missing values: \", train_data.shape)\n",
    "print( \"The shape of the test data, after removing missing values: \", test_data.shape)"
   ]
  },
  {
   "cell_type": "markdown",
   "metadata": {},
   "source": [
    "### Separating out the predictor and predicted variables of the dataset"
   ]
  },
  {
   "cell_type": "code",
   "execution_count": 22,
   "metadata": {
    "ExecuteTime": {
     "end_time": "2020-03-18T16:48:15.246621Z",
     "start_time": "2020-03-18T16:48:15.079602Z"
    }
   },
   "outputs": [],
   "source": [
    "Y_train= train_data.price\n",
    "X_train= train_data.iloc[:, :-1 ]"
   ]
  },
  {
   "cell_type": "code",
   "execution_count": 23,
   "metadata": {
    "ExecuteTime": {
     "end_time": "2020-03-18T16:48:15.355996Z",
     "start_time": "2020-03-18T16:48:15.252604Z"
    }
   },
   "outputs": [],
   "source": [
    "X_test= test_data.iloc[:, :]"
   ]
  },
  {
   "cell_type": "markdown",
   "metadata": {},
   "source": [
    "## Pricing trend"
   ]
  },
  {
   "cell_type": "code",
   "execution_count": 24,
   "metadata": {
    "ExecuteTime": {
     "end_time": "2020-03-18T16:48:27.169873Z",
     "start_time": "2020-03-18T16:48:15.358988Z"
    }
   },
   "outputs": [
    {
     "data": {
      "image/png": "[encoded data removed]",
      "text/plain": [
       "<Figure size 720x504 with 1 Axes>"
      ]
     },
     "metadata": {
      "needs_background": "light"
     },
     "output_type": "display_data"
    }
   ],
   "source": [
    "import seaborn as sns\n",
    "from scipy import stats\n",
    "fig, ax= plt.subplots(figsize= (10, 7))\n",
    "sns.distplot(Y_train, color= 'blue', fit= stats.norm, kde= True, rug= True, hist_kws= {'edgecolor': 'black'},\n",
    "           kde_kws= {'color': 'darkblue', 'linewidth': 2}, rug_kws= {'color': 'green'})\n",
    "plt.title(\" Trend of house price from train data\")\n",
    "plt.xlabel('Price')\n",
    "plt.ylabel('Probability')\n",
    "plt.show()"
   ]
  },
  {
   "cell_type": "markdown",
   "metadata": {},
   "source": [
    "From the above plot, we see that:\n",
    "* The house pricing is right-skewed, when compared to the standard normal distribution\n",
    "* There are outliers in the dataset\n",
    "* The price of house is mostly below 500lakhs."
   ]
  },
  {
   "cell_type": "markdown",
   "metadata": {},
   "source": [
    "So, for outliers, let us use a boxplot to find the trend."
   ]
  },
  {
   "cell_type": "code",
   "execution_count": 25,
   "metadata": {
    "ExecuteTime": {
     "end_time": "2020-03-18T16:48:27.544863Z",
     "start_time": "2020-03-18T16:48:27.172859Z"
    }
   },
   "outputs": [
    {
     "data": {
      "image/png": "[encoded data removed]",
      "text/plain": [
       "<Figure size 864x504 with 1 Axes>"
      ]
     },
     "metadata": {
      "needs_background": "light"
     },
     "output_type": "display_data"
    }
   ],
   "source": [
    "fig, ax= plt.subplots(figsize= (12, 7))\n",
    "sns.boxplot(Y_train, ax= ax)\n",
    "ax.set(xlabel= \"House Price in lakhs\", title= \"Boxplot of house prices in train data\")\n",
    "plt.show()"
   ]
  },
  {
   "cell_type": "markdown",
   "metadata": {},
   "source": [
    "Thus, we see that there are quite a few outliers in the price data, which are above the quartile range."
   ]
  },
  {
   "cell_type": "code",
   "execution_count": 26,
   "metadata": {
    "ExecuteTime": {
     "end_time": "2020-03-18T16:48:27.632279Z",
     "start_time": "2020-03-18T16:48:27.547855Z"
    }
   },
   "outputs": [
    {
     "name": "stdout",
     "output_type": "stream",
     "text": [
      " Descriptive statistics of price:\n",
      "\n",
      "count    12710.000000\n",
      "mean       106.060778\n",
      "std        131.766089\n",
      "min          8.000000\n",
      "25%         49.030000\n",
      "50%         70.000000\n",
      "75%        115.000000\n",
      "max       2912.000000\n",
      "Name: price, dtype: float64\n",
      "Mode of price data:  0    75.0\n",
      "dtype: float64\n"
     ]
    }
   ],
   "source": [
    "print(\" Descriptive statistics of price:\\n\")\n",
    "print( Y_train.describe() )\n",
    "print(\"Mode of price data: \",Y_train.mode() )"
   ]
  },
  {
   "cell_type": "markdown",
   "metadata": {},
   "source": [
    "So, for the target variable price, we can say that:\n",
    "* The average house price is 106lakhs. But this average is affected by outliers.\n",
    "* The data is skewed, with a high standard deviation of 131.7lakhs.\n",
    "* The range of price is [8, 2912] lakhs.\n",
    "* There is outliers in the data, which is above the price 213.95lakhs."
   ]
  },
  {
   "cell_type": "markdown",
   "metadata": {},
   "source": [
    "## Pre-processing the predictor variables"
   ]
  },
  {
   "cell_type": "code",
   "execution_count": 27,
   "metadata": {
    "ExecuteTime": {
     "end_time": "2020-03-18T16:48:28.035034Z",
     "start_time": "2020-03-18T16:48:27.635264Z"
    }
   },
   "outputs": [
    {
     "data": {
      "image/png": "[encoded data removed]",
      "text/plain": [
       "<Figure size 720x504 with 1 Axes>"
      ]
     },
     "metadata": {
      "needs_background": "light"
     },
     "output_type": "display_data"
    }
   ],
   "source": [
    "X_train['size'].value_counts().plot.barh(figsize= (10, 7), title= 'Proportion of size of flats in train data')\n",
    "plt.show()"
   ]
  },
  {
   "cell_type": "code",
   "execution_count": 28,
   "metadata": {
    "ExecuteTime": {
     "end_time": "2020-03-18T16:48:28.371514Z",
     "start_time": "2020-03-18T16:48:28.037026Z"
    }
   },
   "outputs": [
    {
     "data": {
      "image/png": "[encoded data removed]",
      "text/plain": [
       "<Figure size 720x504 with 1 Axes>"
      ]
     },
     "metadata": {
      "needs_background": "light"
     },
     "output_type": "display_data"
    }
   ],
   "source": [
    "X_test['size'].value_counts().plot.barh(figsize= (10, 7), title= 'Proportion of size of flats in test data')\n",
    "plt.show()"
   ]
  },
  {
   "cell_type": "code",
   "execution_count": 29,
   "metadata": {
    "ExecuteTime": {
     "end_time": "2020-03-18T16:48:28.393455Z",
     "start_time": "2020-03-18T16:48:28.375503Z"
    }
   },
   "outputs": [
    {
     "name": "stdout",
     "output_type": "stream",
     "text": [
      " To check th different types of values in total_sqft attribute in train data:\n"
     ]
    },
    {
     "data": {
      "text/plain": [
       "1200             788\n",
       "1100             218\n",
       "1500             198\n",
       "2400             177\n",
       "600              172\n",
       "1000             170\n",
       "1350             130\n",
       "1050             122\n",
       "1300             115\n",
       "1250             110\n",
       "900              108\n",
       "1400             105\n",
       "1600              99\n",
       "1800              98\n",
       "1150              98\n",
       "1140              91\n",
       "2000              78\n",
       "1450              69\n",
       "1075              66\n",
       "1650              63\n",
       "800               62\n",
       "1020              62\n",
       "1160              60\n",
       "1125              60\n",
       "3000              60\n",
       "1550              59\n",
       "1180              58\n",
       "2500              57\n",
       "950               57\n",
       "1255              56\n",
       "                ... \n",
       "302                1\n",
       "981                1\n",
       "4356               1\n",
       "1637               1\n",
       "4640               1\n",
       "1687               1\n",
       "1879               1\n",
       "2150 - 2225        1\n",
       "1087               1\n",
       "2826               1\n",
       "906                1\n",
       "1648               1\n",
       "3569               1\n",
       "2274.24            1\n",
       "3463               1\n",
       "804.1              1\n",
       "3734               1\n",
       "1974               1\n",
       "3870               1\n",
       "2720               1\n",
       "2137               1\n",
       "2375               1\n",
       "1015 - 1540        1\n",
       "11338              1\n",
       "691                1\n",
       "1649               1\n",
       "1010 - 1300        1\n",
       "1940               1\n",
       "5                  1\n",
       "1000Sq. Meter      1\n",
       "Name: total_sqft, Length: 1976, dtype: int64"
      ]
     },
     "execution_count": 29,
     "metadata": {},
     "output_type": "execute_result"
    }
   ],
   "source": [
    "print( \" To check th different types of values in total_sqft attribute in train data:\")\n",
    "X_train.total_sqft.value_counts()"
   ]
  },
  {
   "cell_type": "markdown",
   "metadata": {},
   "source": [
    "From above, we see that total_sqft attribute has values in different types of measures as sq. yards. So we need to convert all to sqft. And hence, this will lead to the attribute being converted to integer."
   ]
  },
  {
   "cell_type": "code",
   "execution_count": 30,
   "metadata": {
    "ExecuteTime": {
     "end_time": "2020-03-18T16:48:28.486346Z",
     "start_time": "2020-03-18T16:48:28.406432Z"
    }
   },
   "outputs": [],
   "source": [
    "# Funtion to take each value of total_sqft and convert it accordingly.\n",
    "def total_sqft_convert(area_val):\n",
    "    if len(area_val) == 1:\n",
    "        \n",
    "        try:\n",
    "            return float(area_val[0])\n",
    "        except:\n",
    "            strings = ['Sq. Meter', 'Sq. Yards', 'Perch', 'Acres', 'Cents', 'Guntha', 'Grounds']\n",
    "            split_list = re.split('(\\d*.*\\d)', area_val[0])[1:]\n",
    "            area = float(split_list[0])\n",
    "            type_of_area = split_list[1]\n",
    "            \n",
    "            if type_of_area == 'Sq. Meter':\n",
    "                area_in_sqft = area * 10.7639\n",
    "            elif type_of_area == 'Sq. Yards':\n",
    "                area_in_sqft = area * 9.0\n",
    "            elif type_of_area == 'Perch':\n",
    "                area_in_sqft = area * 272.25\n",
    "            elif type_of_area == 'Acres':\n",
    "                area_in_sqft = area * 43560.0\n",
    "            elif type_of_area == 'Cents':\n",
    "                area_in_sqft = area * 435.61545\n",
    "            elif type_of_area == 'Guntha':\n",
    "                area_in_sqft = area * 1089.0\n",
    "            elif type_of_area == 'Grounds':\n",
    "                area_in_sqft = area * 2400.0\n",
    "            return float(area_in_sqft)        \n",
    "    else:\n",
    "        return (float(area_val[0]) + float(area_val[1]))/2.0    "
   ]
  },
  {
   "cell_type": "code",
   "execution_count": 31,
   "metadata": {
    "ExecuteTime": {
     "end_time": "2020-03-18T16:48:28.621793Z",
     "start_time": "2020-03-18T16:48:28.488331Z"
    }
   },
   "outputs": [],
   "source": [
    " #converting to sqft\n",
    "X_train.total_sqft= X_train.total_sqft.str.split('-').apply(total_sqft_convert)"
   ]
  },
  {
   "cell_type": "code",
   "execution_count": 32,
   "metadata": {
    "ExecuteTime": {
     "end_time": "2020-03-18T16:48:28.672518Z",
     "start_time": "2020-03-18T16:48:28.624660Z"
    }
   },
   "outputs": [],
   "source": [
    "#X_test.total_sqft.value_counts()"
   ]
  },
  {
   "cell_type": "code",
   "execution_count": 33,
   "metadata": {
    "ExecuteTime": {
     "end_time": "2020-03-18T16:48:28.779512Z",
     "start_time": "2020-03-18T16:48:28.674513Z"
    }
   },
   "outputs": [],
   "source": [
    "X_test.total_sqft= X_test.total_sqft.str.split('-').apply(total_sqft_convert)"
   ]
  },
  {
   "cell_type": "code",
   "execution_count": 34,
   "metadata": {
    "ExecuteTime": {
     "end_time": "2020-03-18T16:48:32.325475Z",
     "start_time": "2020-03-18T16:48:28.783540Z"
    }
   },
   "outputs": [],
   "source": [
    "from sklearn.preprocessing import LabelEncoder\n",
    "le= LabelEncoder()"
   ]
  },
  {
   "cell_type": "code",
   "execution_count": 35,
   "metadata": {
    "ExecuteTime": {
     "end_time": "2020-03-18T16:48:32.350312Z",
     "start_time": "2020-03-18T16:48:32.329368Z"
    }
   },
   "outputs": [
    {
     "data": {
      "text/html": [
       "<div>\n",
       "<style scoped>\n",
       "    .dataframe tbody tr th:only-of-type {\n",
       "        vertical-align: middle;\n",
       "    }\n",
       "\n",
       "    .dataframe tbody tr th {\n",
       "        vertical-align: top;\n",
       "    }\n",
       "\n",
       "    .dataframe thead th {\n",
       "        text-align: right;\n",
       "    }\n",
       "</style>\n",
       "<table border=\"1\" class=\"dataframe\">\n",
       "  <thead>\n",
       "    <tr style=\"text-align: right;\">\n",
       "      <th></th>\n",
       "      <th>area_type</th>\n",
       "      <th>availability</th>\n",
       "      <th>location</th>\n",
       "      <th>size</th>\n",
       "      <th>total_sqft</th>\n",
       "      <th>bath</th>\n",
       "      <th>balcony</th>\n",
       "    </tr>\n",
       "  </thead>\n",
       "  <tbody>\n",
       "    <tr>\n",
       "      <th>0</th>\n",
       "      <td>super built-up  area</td>\n",
       "      <td>19-dec</td>\n",
       "      <td>electronic city phase ii</td>\n",
       "      <td>2 bhk</td>\n",
       "      <td>1056.0</td>\n",
       "      <td>2.0</td>\n",
       "      <td>1.0</td>\n",
       "    </tr>\n",
       "    <tr>\n",
       "      <th>1</th>\n",
       "      <td>plot  area</td>\n",
       "      <td>ready to move</td>\n",
       "      <td>chikka tirupathi</td>\n",
       "      <td>4 bedroom</td>\n",
       "      <td>2600.0</td>\n",
       "      <td>5.0</td>\n",
       "      <td>3.0</td>\n",
       "    </tr>\n",
       "    <tr>\n",
       "      <th>2</th>\n",
       "      <td>built-up  area</td>\n",
       "      <td>ready to move</td>\n",
       "      <td>uttarahalli</td>\n",
       "      <td>3 bhk</td>\n",
       "      <td>1440.0</td>\n",
       "      <td>2.0</td>\n",
       "      <td>3.0</td>\n",
       "    </tr>\n",
       "  </tbody>\n",
       "</table>\n",
       "</div>"
      ],
      "text/plain": [
       "              area_type   availability                  location       size  \\\n",
       "0  super built-up  area         19-dec  electronic city phase ii      2 bhk   \n",
       "1            plot  area  ready to move          chikka tirupathi  4 bedroom   \n",
       "2        built-up  area  ready to move               uttarahalli      3 bhk   \n",
       "\n",
       "   total_sqft  bath  balcony  \n",
       "0      1056.0   2.0      1.0  \n",
       "1      2600.0   5.0      3.0  \n",
       "2      1440.0   2.0      3.0  "
      ]
     },
     "execution_count": 35,
     "metadata": {},
     "output_type": "execute_result"
    }
   ],
   "source": [
    "X_train.head(3)"
   ]
  },
  {
   "cell_type": "markdown",
   "metadata": {},
   "source": [
    "So, from above, we see that the attributes 'area_type', 'location', 'size' are categorical variables. These need to be encoded to numbers."
   ]
  },
  {
   "cell_type": "code",
   "execution_count": 36,
   "metadata": {
    "ExecuteTime": {
     "end_time": "2020-03-18T16:48:32.494273Z",
     "start_time": "2020-03-18T16:48:32.355303Z"
    }
   },
   "outputs": [],
   "source": [
    "X_train.area_type= le.fit_transform(X_train.area_type)\n",
    "X_train.location= le.fit_transform(X_train.location)\n",
    "X_train['size']= le.fit_transform(X_train['size'])\n",
    "#X_train.availability= le.fit_transform(X_train.availability)"
   ]
  },
  {
   "cell_type": "code",
   "execution_count": 37,
   "metadata": {
    "ExecuteTime": {
     "end_time": "2020-03-18T16:48:32.619222Z",
     "start_time": "2020-03-18T16:48:32.499260Z"
    }
   },
   "outputs": [],
   "source": [
    "X_test.area_type= le.fit_transform(X_test.area_type)\n",
    "X_test.location= le.fit_transform(X_test.location)\n",
    "X_test['size']= le.fit_transform(X_test['size'])\n",
    "#X_train.availability= le.fit_transform(X_train.availability)"
   ]
  },
  {
   "cell_type": "code",
   "execution_count": 38,
   "metadata": {
    "ExecuteTime": {
     "end_time": "2020-03-18T16:48:32.740140Z",
     "start_time": "2020-03-18T16:48:32.621248Z"
    }
   },
   "outputs": [
    {
     "data": {
      "text/html": [
       "<div>\n",
       "<style scoped>\n",
       "    .dataframe tbody tr th:only-of-type {\n",
       "        vertical-align: middle;\n",
       "    }\n",
       "\n",
       "    .dataframe tbody tr th {\n",
       "        vertical-align: top;\n",
       "    }\n",
       "\n",
       "    .dataframe thead th {\n",
       "        text-align: right;\n",
       "    }\n",
       "</style>\n",
       "<table border=\"1\" class=\"dataframe\">\n",
       "  <thead>\n",
       "    <tr style=\"text-align: right;\">\n",
       "      <th></th>\n",
       "      <th>area_type</th>\n",
       "      <th>availability</th>\n",
       "      <th>location</th>\n",
       "      <th>size</th>\n",
       "      <th>total_sqft</th>\n",
       "      <th>bath</th>\n",
       "      <th>balcony</th>\n",
       "    </tr>\n",
       "  </thead>\n",
       "  <tbody>\n",
       "    <tr>\n",
       "      <th>0</th>\n",
       "      <td>3</td>\n",
       "      <td>19-dec</td>\n",
       "      <td>415</td>\n",
       "      <td>10</td>\n",
       "      <td>1056.0</td>\n",
       "      <td>2.0</td>\n",
       "      <td>1.0</td>\n",
       "    </tr>\n",
       "    <tr>\n",
       "      <th>1</th>\n",
       "      <td>2</td>\n",
       "      <td>ready to move</td>\n",
       "      <td>309</td>\n",
       "      <td>14</td>\n",
       "      <td>2600.0</td>\n",
       "      <td>5.0</td>\n",
       "      <td>3.0</td>\n",
       "    </tr>\n",
       "    <tr>\n",
       "      <th>2</th>\n",
       "      <td>0</td>\n",
       "      <td>ready to move</td>\n",
       "      <td>1164</td>\n",
       "      <td>13</td>\n",
       "      <td>1440.0</td>\n",
       "      <td>2.0</td>\n",
       "      <td>3.0</td>\n",
       "    </tr>\n",
       "    <tr>\n",
       "      <th>3</th>\n",
       "      <td>3</td>\n",
       "      <td>ready to move</td>\n",
       "      <td>750</td>\n",
       "      <td>13</td>\n",
       "      <td>1521.0</td>\n",
       "      <td>3.0</td>\n",
       "      <td>1.0</td>\n",
       "    </tr>\n",
       "  </tbody>\n",
       "</table>\n",
       "</div>"
      ],
      "text/plain": [
       "   area_type   availability  location  size  total_sqft  bath  balcony\n",
       "0          3         19-dec       415    10      1056.0   2.0      1.0\n",
       "1          2  ready to move       309    14      2600.0   5.0      3.0\n",
       "2          0  ready to move      1164    13      1440.0   2.0      3.0\n",
       "3          3  ready to move       750    13      1521.0   3.0      1.0"
      ]
     },
     "execution_count": 38,
     "metadata": {},
     "output_type": "execute_result"
    }
   ],
   "source": [
    "# Encoded attributes\n",
    "X_train.head(4)"
   ]
  },
  {
   "cell_type": "markdown",
   "metadata": {},
   "source": [
    "\"Immediate Possession' got removed when NA rows were removed from data. So that we need to handle. Hence, we should not drop NA columns. To be done later."
   ]
  },
  {
   "cell_type": "code",
   "execution_count": 39,
   "metadata": {
    "ExecuteTime": {
     "end_time": "2020-03-18T16:48:32.889383Z",
     "start_time": "2020-03-18T16:48:32.745125Z"
    }
   },
   "outputs": [
    {
     "data": {
      "text/html": [
       "<div>\n",
       "<style scoped>\n",
       "    .dataframe tbody tr th:only-of-type {\n",
       "        vertical-align: middle;\n",
       "    }\n",
       "\n",
       "    .dataframe tbody tr th {\n",
       "        vertical-align: top;\n",
       "    }\n",
       "\n",
       "    .dataframe thead th {\n",
       "        text-align: right;\n",
       "    }\n",
       "</style>\n",
       "<table border=\"1\" class=\"dataframe\">\n",
       "  <thead>\n",
       "    <tr style=\"text-align: right;\">\n",
       "      <th></th>\n",
       "      <th>area_type</th>\n",
       "      <th>availability</th>\n",
       "      <th>location</th>\n",
       "      <th>size</th>\n",
       "      <th>total_sqft</th>\n",
       "      <th>bath</th>\n",
       "      <th>balcony</th>\n",
       "    </tr>\n",
       "  </thead>\n",
       "  <tbody>\n",
       "    <tr>\n",
       "      <th>0</th>\n",
       "      <td>3</td>\n",
       "      <td>ready to move</td>\n",
       "      <td>89</td>\n",
       "      <td>5</td>\n",
       "      <td>1225.0</td>\n",
       "      <td>2.0</td>\n",
       "      <td>2.0</td>\n",
       "    </tr>\n",
       "    <tr>\n",
       "      <th>1</th>\n",
       "      <td>2</td>\n",
       "      <td>ready to move</td>\n",
       "      <td>29</td>\n",
       "      <td>18</td>\n",
       "      <td>2400.0</td>\n",
       "      <td>9.0</td>\n",
       "      <td>2.0</td>\n",
       "    </tr>\n",
       "    <tr>\n",
       "      <th>2</th>\n",
       "      <td>2</td>\n",
       "      <td>18-apr</td>\n",
       "      <td>178</td>\n",
       "      <td>8</td>\n",
       "      <td>1650.0</td>\n",
       "      <td>5.0</td>\n",
       "      <td>2.0</td>\n",
       "    </tr>\n",
       "    <tr>\n",
       "      <th>3</th>\n",
       "      <td>3</td>\n",
       "      <td>ready to move</td>\n",
       "      <td>257</td>\n",
       "      <td>7</td>\n",
       "      <td>1322.0</td>\n",
       "      <td>3.0</td>\n",
       "      <td>1.0</td>\n",
       "    </tr>\n",
       "  </tbody>\n",
       "</table>\n",
       "</div>"
      ],
      "text/plain": [
       "   area_type   availability  location  size  total_sqft  bath  balcony\n",
       "0          3  ready to move        89     5      1225.0   2.0      2.0\n",
       "1          2  ready to move        29    18      2400.0   9.0      2.0\n",
       "2          2         18-apr       178     8      1650.0   5.0      2.0\n",
       "3          3  ready to move       257     7      1322.0   3.0      1.0"
      ]
     },
     "execution_count": 39,
     "metadata": {},
     "output_type": "execute_result"
    }
   ],
   "source": [
    "X_test.head(4)"
   ]
  },
  {
   "cell_type": "code",
   "execution_count": 40,
   "metadata": {
    "ExecuteTime": {
     "end_time": "2020-03-18T16:48:32.957286Z",
     "start_time": "2020-03-18T16:48:32.894370Z"
    }
   },
   "outputs": [],
   "source": [
    "# Categorising 'avilability' as \"Ready to move\" and \"Others\"\n",
    "def avail_conv(avl):\n",
    "    if( avl== 'ready to move'):\n",
    "        return 0\n",
    "    elif(avl== 'immediate possession'):\n",
    "        return 1\n",
    "    else:\n",
    "        return 2"
   ]
  },
  {
   "cell_type": "code",
   "execution_count": 41,
   "metadata": {
    "ExecuteTime": {
     "end_time": "2020-03-18T16:48:33.075906Z",
     "start_time": "2020-03-18T16:48:32.959283Z"
    }
   },
   "outputs": [],
   "source": [
    "X_train.availability= X_train.availability.apply(avail_conv)\n",
    "X_test.availability= X_test.availability.apply(avail_conv)"
   ]
  },
  {
   "cell_type": "code",
   "execution_count": 42,
   "metadata": {
    "ExecuteTime": {
     "end_time": "2020-03-18T16:48:33.193954Z",
     "start_time": "2020-03-18T16:48:33.078896Z"
    }
   },
   "outputs": [
    {
     "name": "stdout",
     "output_type": "stream",
     "text": [
      "   area_type  availability  location  size  total_sqft  bath  balcony\n",
      "0          3             2       415    10      1056.0   2.0      1.0\n",
      "1          2             0       309    14      2600.0   5.0      3.0\n",
      "2          0             0      1164    13      1440.0   2.0      3.0\n",
      "3          3             0       750    13      1521.0   3.0      1.0\n",
      "area_type         int32\n",
      "availability      int64\n",
      "location          int32\n",
      "size              int32\n",
      "total_sqft      float64\n",
      "bath            float64\n",
      "balcony         float64\n",
      "dtype: object\n"
     ]
    }
   ],
   "source": [
    "print( X_train.head(4) )\n",
    "print( X_train.dtypes)"
   ]
  },
  {
   "cell_type": "code",
   "execution_count": 43,
   "metadata": {
    "ExecuteTime": {
     "end_time": "2020-03-18T16:48:33.272464Z",
     "start_time": "2020-03-18T16:48:33.196945Z"
    }
   },
   "outputs": [
    {
     "name": "stdout",
     "output_type": "stream",
     "text": [
      "   area_type  availability  location  size  total_sqft  bath  balcony\n",
      "0          3             0        89     5      1225.0   2.0      2.0\n",
      "1          2             0        29    18      2400.0   9.0      2.0\n",
      "2          2             2       178     8      1650.0   5.0      2.0\n",
      "3          3             0       257     7      1322.0   3.0      1.0\n",
      "area_type         int32\n",
      "availability      int64\n",
      "location          int32\n",
      "size              int32\n",
      "total_sqft      float64\n",
      "bath            float64\n",
      "balcony         float64\n",
      "dtype: object\n"
     ]
    }
   ],
   "source": [
    "print( X_test.head(4) )\n",
    "print( X_test.dtypes)"
   ]
  },
  {
   "cell_type": "code",
   "execution_count": 44,
   "metadata": {
    "ExecuteTime": {
     "end_time": "2020-03-18T16:48:33.389127Z",
     "start_time": "2020-03-18T16:48:33.275457Z"
    }
   },
   "outputs": [
    {
     "data": {
      "text/plain": [
       "array([0, 2], dtype=int64)"
      ]
     },
     "execution_count": 44,
     "metadata": {},
     "output_type": "execute_result"
    }
   ],
   "source": [
    "X_test.availability.unique()"
   ]
  },
  {
   "cell_type": "markdown",
   "metadata": {},
   "source": [
    "## Modelling "
   ]
  },
  {
   "cell_type": "code",
   "execution_count": 45,
   "metadata": {
    "ExecuteTime": {
     "end_time": "2020-03-18T16:48:34.466226Z",
     "start_time": "2020-03-18T16:48:33.393115Z"
    }
   },
   "outputs": [],
   "source": [
    "from xgboost import XGBRegressor\n",
    "regr= XGBRegressor()"
   ]
  },
  {
   "cell_type": "markdown",
   "metadata": {},
   "source": [
    "### Splitting the test data to check for accuracy"
   ]
  },
  {
   "cell_type": "code",
   "execution_count": 46,
   "metadata": {
    "ExecuteTime": {
     "end_time": "2020-03-18T16:48:34.527250Z",
     "start_time": "2020-03-18T16:48:34.469042Z"
    }
   },
   "outputs": [],
   "source": [
    "from sklearn.model_selection import train_test_split\n",
    "x_tr, x_val, y_tr,y_val= train_test_split(X_train, Y_train, test_size= 0.1, random_state= 111 )"
   ]
  },
  {
   "cell_type": "code",
   "execution_count": 66,
   "metadata": {
    "ExecuteTime": {
     "end_time": "2020-03-18T16:54:03.893396Z",
     "start_time": "2020-03-18T16:54:03.876439Z"
    }
   },
   "outputs": [
    {
     "data": {
      "text/html": [
       "<div>\n",
       "<style scoped>\n",
       "    .dataframe tbody tr th:only-of-type {\n",
       "        vertical-align: middle;\n",
       "    }\n",
       "\n",
       "    .dataframe tbody tr th {\n",
       "        vertical-align: top;\n",
       "    }\n",
       "\n",
       "    .dataframe thead th {\n",
       "        text-align: right;\n",
       "    }\n",
       "</style>\n",
       "<table border=\"1\" class=\"dataframe\">\n",
       "  <thead>\n",
       "    <tr style=\"text-align: right;\">\n",
       "      <th></th>\n",
       "      <th>area_type</th>\n",
       "      <th>availability</th>\n",
       "      <th>location</th>\n",
       "      <th>size</th>\n",
       "      <th>total_sqft</th>\n",
       "      <th>bath</th>\n",
       "      <th>balcony</th>\n",
       "    </tr>\n",
       "  </thead>\n",
       "  <tbody>\n",
       "    <tr>\n",
       "      <th>4077</th>\n",
       "      <td>3</td>\n",
       "      <td>0</td>\n",
       "      <td>579</td>\n",
       "      <td>13</td>\n",
       "      <td>1570.0</td>\n",
       "      <td>3.0</td>\n",
       "      <td>2.0</td>\n",
       "    </tr>\n",
       "    <tr>\n",
       "      <th>7366</th>\n",
       "      <td>2</td>\n",
       "      <td>0</td>\n",
       "      <td>463</td>\n",
       "      <td>14</td>\n",
       "      <td>2500.0</td>\n",
       "      <td>3.0</td>\n",
       "      <td>2.0</td>\n",
       "    </tr>\n",
       "    <tr>\n",
       "      <th>9468</th>\n",
       "      <td>3</td>\n",
       "      <td>0</td>\n",
       "      <td>427</td>\n",
       "      <td>13</td>\n",
       "      <td>1485.0</td>\n",
       "      <td>2.0</td>\n",
       "      <td>3.0</td>\n",
       "    </tr>\n",
       "    <tr>\n",
       "      <th>12450</th>\n",
       "      <td>3</td>\n",
       "      <td>0</td>\n",
       "      <td>750</td>\n",
       "      <td>13</td>\n",
       "      <td>1894.0</td>\n",
       "      <td>4.0</td>\n",
       "      <td>1.0</td>\n",
       "    </tr>\n",
       "    <tr>\n",
       "      <th>11785</th>\n",
       "      <td>3</td>\n",
       "      <td>2</td>\n",
       "      <td>1253</td>\n",
       "      <td>13</td>\n",
       "      <td>1692.0</td>\n",
       "      <td>3.0</td>\n",
       "      <td>3.0</td>\n",
       "    </tr>\n",
       "  </tbody>\n",
       "</table>\n",
       "</div>"
      ],
      "text/plain": [
       "       area_type  availability  location  size  total_sqft  bath  balcony\n",
       "4077           3             0       579    13      1570.0   3.0      2.0\n",
       "7366           2             0       463    14      2500.0   3.0      2.0\n",
       "9468           3             0       427    13      1485.0   2.0      3.0\n",
       "12450          3             0       750    13      1894.0   4.0      1.0\n",
       "11785          3             2      1253    13      1692.0   3.0      3.0"
      ]
     },
     "execution_count": 66,
     "metadata": {},
     "output_type": "execute_result"
    }
   ],
   "source": [
    "x_tr.head()"
   ]
  },
  {
   "cell_type": "code",
   "execution_count": 47,
   "metadata": {
    "ExecuteTime": {
     "end_time": "2020-03-18T16:48:34.586311Z",
     "start_time": "2020-03-18T16:48:34.531235Z"
    }
   },
   "outputs": [
    {
     "name": "stdout",
     "output_type": "stream",
     "text": [
      "(11439, 7)\n",
      "(1271, 7)\n",
      "(11439,)\n",
      "(1271,)\n"
     ]
    }
   ],
   "source": [
    "print(x_tr.shape)\n",
    "print(x_val.shape)\n",
    "print(y_tr.shape)\n",
    "print(y_val.shape)"
   ]
  },
  {
   "cell_type": "code",
   "execution_count": 48,
   "metadata": {
    "ExecuteTime": {
     "end_time": "2020-03-18T16:48:35.771508Z",
     "start_time": "2020-03-18T16:48:34.590263Z"
    },
    "scrolled": true
   },
   "outputs": [
    {
     "name": "stderr",
     "output_type": "stream",
     "text": [
      "C:\\Users\\Soorma\\Anaconda3\\lib\\site-packages\\xgboost\\core.py:587: FutureWarning: Series.base is deprecated and will be removed in a future version\n",
      "  if getattr(data, 'base', None) is not None and \\\n"
     ]
    },
    {
     "name": "stdout",
     "output_type": "stream",
     "text": [
      "[22:18:34] WARNING: C:/Jenkins/workspace/xgboost-win64_release_0.90/src/objective/regression_obj.cu:152: reg:linear is now deprecated in favor of reg:squarederror.\n"
     ]
    },
    {
     "data": {
      "text/plain": [
       "XGBRegressor(base_score=0.5, booster='gbtree', colsample_bylevel=1,\n",
       "       colsample_bynode=1, colsample_bytree=1, gamma=0,\n",
       "       importance_type='gain', learning_rate=0.1, max_delta_step=0,\n",
       "       max_depth=3, min_child_weight=1, missing=None, n_estimators=100,\n",
       "       n_jobs=1, nthread=None, objective='reg:linear', random_state=0,\n",
       "       reg_alpha=0, reg_lambda=1, scale_pos_weight=1, seed=None,\n",
       "       silent=None, subsample=1, verbosity=1)"
      ]
     },
     "execution_count": 48,
     "metadata": {},
     "output_type": "execute_result"
    }
   ],
   "source": [
    "# Fitting the regressor with data\n",
    "regr.fit(x_tr, y_tr)"
   ]
  },
  {
   "cell_type": "code",
   "execution_count": 49,
   "metadata": {
    "ExecuteTime": {
     "end_time": "2020-03-18T16:48:35.783427Z",
     "start_time": "2020-03-18T16:48:35.774488Z"
    }
   },
   "outputs": [],
   "source": [
    "def errcalc(y_pred, y_act):\n",
    "    err= np.square(np.log10(y_pred+ 1 )- np.log10(y_act+ 1)).mean()** 0.5\n",
    "    acc= 1- err\n",
    "    return(acc)"
   ]
  },
  {
   "cell_type": "code",
   "execution_count": 50,
   "metadata": {
    "ExecuteTime": {
     "end_time": "2020-03-18T16:48:35.883512Z",
     "start_time": "2020-03-18T16:48:35.786425Z"
    }
   },
   "outputs": [],
   "source": [
    "# Predicting prices\n",
    "y_pred_tr= regr.predict(x_val)"
   ]
  },
  {
   "cell_type": "code",
   "execution_count": 51,
   "metadata": {
    "ExecuteTime": {
     "end_time": "2020-03-18T16:48:36.030532Z",
     "start_time": "2020-03-18T16:48:35.888403Z"
    }
   },
   "outputs": [
    {
     "name": "stdout",
     "output_type": "stream",
     "text": [
      " The accuracy(RMLSE) score of the train dataset:  0.8383255916862395\n"
     ]
    },
    {
     "name": "stderr",
     "output_type": "stream",
     "text": [
      "C:\\Users\\Soorma\\Anaconda3\\lib\\site-packages\\ipykernel_launcher.py:2: RuntimeWarning: invalid value encountered in log10\n",
      "  \n"
     ]
    }
   ],
   "source": [
    "print(\" The accuracy(RMLSE) score of the train dataset: \", errcalc(y_pred_tr, y_val) )"
   ]
  },
  {
   "cell_type": "markdown",
   "metadata": {},
   "source": [
    "### Now fitting the model for the whole train data set"
   ]
  },
  {
   "cell_type": "code",
   "execution_count": 52,
   "metadata": {
    "ExecuteTime": {
     "end_time": "2020-03-18T16:48:37.000112Z",
     "start_time": "2020-03-18T16:48:36.035518Z"
    }
   },
   "outputs": [
    {
     "name": "stderr",
     "output_type": "stream",
     "text": [
      "C:\\Users\\Soorma\\Anaconda3\\lib\\site-packages\\xgboost\\core.py:588: FutureWarning: Series.base is deprecated and will be removed in a future version\n",
      "  data.base is not None and isinstance(data, np.ndarray) \\\n"
     ]
    },
    {
     "name": "stdout",
     "output_type": "stream",
     "text": [
      "[22:18:36] WARNING: C:/Jenkins/workspace/xgboost-win64_release_0.90/src/objective/regression_obj.cu:152: reg:linear is now deprecated in favor of reg:squarederror.\n"
     ]
    },
    {
     "data": {
      "text/plain": [
       "XGBRegressor(base_score=0.5, booster='gbtree', colsample_bylevel=1,\n",
       "       colsample_bynode=1, colsample_bytree=1, gamma=0,\n",
       "       importance_type='gain', learning_rate=0.1, max_delta_step=0,\n",
       "       max_depth=3, min_child_weight=1, missing=None, n_estimators=100,\n",
       "       n_jobs=1, nthread=None, objective='reg:linear', random_state=0,\n",
       "       reg_alpha=0, reg_lambda=1, scale_pos_weight=1, seed=None,\n",
       "       silent=None, subsample=1, verbosity=1)"
      ]
     },
     "execution_count": 52,
     "metadata": {},
     "output_type": "execute_result"
    }
   ],
   "source": [
    "regr.fit(X_train, Y_train)"
   ]
  },
  {
   "cell_type": "code",
   "execution_count": 53,
   "metadata": {
    "ExecuteTime": {
     "end_time": "2020-03-18T16:48:37.047056Z",
     "start_time": "2020-03-18T16:48:37.003104Z"
    }
   },
   "outputs": [],
   "source": [
    "Y_pred_train= regr.predict(X_train)"
   ]
  },
  {
   "cell_type": "code",
   "execution_count": 54,
   "metadata": {
    "ExecuteTime": {
     "end_time": "2020-03-18T16:48:37.391019Z",
     "start_time": "2020-03-18T16:48:37.048980Z"
    }
   },
   "outputs": [
    {
     "name": "stdout",
     "output_type": "stream",
     "text": [
      " The accuracy(RMLSE) score of the train dataset:  0.8442074044451928\n"
     ]
    }
   ],
   "source": [
    "print(\" The accuracy(RMLSE) score of the train dataset: \", errcalc(Y_pred_train, Y_train) )"
   ]
  },
  {
   "cell_type": "code",
   "execution_count": 55,
   "metadata": {
    "ExecuteTime": {
     "end_time": "2020-03-18T16:48:37.428948Z",
     "start_time": "2020-03-18T16:48:37.405972Z"
    }
   },
   "outputs": [],
   "source": [
    "Y_pred_test= regr.predict(X_test)"
   ]
  },
  {
   "cell_type": "code",
   "execution_count": 56,
   "metadata": {
    "ExecuteTime": {
     "end_time": "2020-03-18T16:48:38.506896Z",
     "start_time": "2020-03-18T16:48:37.431900Z"
    }
   },
   "outputs": [],
   "source": [
    "(pd.DataFrame(Y_pred_test, columns= [\"price\"]) ).to_excel(\"F:/Data Science/ML/Project/HousePrice/Price_Submsn.xlsx\",\n",
    "                                                        index= False)"
   ]
  },
  {
   "cell_type": "markdown",
   "metadata": {},
   "source": [
    "# Writing the model as pickle file"
   ]
  },
  {
   "cell_type": "code",
   "execution_count": 64,
   "metadata": {
    "ExecuteTime": {
     "end_time": "2020-03-18T16:48:49.550257Z",
     "start_time": "2020-03-18T16:48:49.481442Z"
    }
   },
   "outputs": [],
   "source": [
    "import pickle"
   ]
  },
  {
   "cell_type": "code",
   "execution_count": 65,
   "metadata": {
    "ExecuteTime": {
     "end_time": "2020-03-18T16:48:49.643047Z",
     "start_time": "2020-03-18T16:48:49.552253Z"
    }
   },
   "outputs": [],
   "source": [
    "#serializing our model to a file called model.pkl\n",
    "pickle.dump(regr, open(r\"F:\\Data Science\\DE\\xgb-model.pkl\",\"wb\"))"
   ]
  }
 ],
 "metadata": {
  "kernelspec": {
   "display_name": "Python 3",
   "language": "python",
   "name": "python3"
  },
  "language_info": {
   "codemirror_mode": {
    "name": "ipython",
    "version": 3
   },
   "file_extension": ".py",
   "mimetype": "text/x-python",
   "name": "python",
   "nbconvert_exporter": "python",
   "pygments_lexer": "ipython3",
   "version": "3.7.3"
  },
  "toc": {
   "base_numbering": 1,
   "nav_menu": {},
   "number_sections": true,
   "sideBar": true,
   "skip_h1_title": false,
   "title_cell": "Table of Contents",
   "title_sidebar": "Contents",
   "toc_cell": false,
   "toc_position": {},
   "toc_section_display": true,
   "toc_window_display": true
  }
 },
 "nbformat": 4,
 "nbformat_minor": 2
}
